{
 "cells": [
  {
   "cell_type": "code",
   "execution_count": 3,
   "id": "a33fe5d4-1f75-4478-b90f-138888a5d931",
   "metadata": {},
   "outputs": [],
   "source": [
    "import numpy as np\n",
    "import sys"
   ]
  },
  {
   "cell_type": "code",
   "execution_count": 20,
   "id": "3aa48859-eb29-4a7d-aa6f-f488aa57afba",
   "metadata": {},
   "outputs": [],
   "source": [
    "# Calculating the order of accuracy of an RK scheme from the Butcher Tableau\n",
    "\n",
    "import numpy as np\n",
    "import sys\n",
    "import matplotlib.pyplot as plt\n",
    "\n",
    "class ButcherTableau:\n",
    "    def __init__(self, name, A, w):\n",
    "        self.name = name\n",
    "        self.A = np.array(A)\n",
    "        self.w = np.array(w)\n",
    "        self.n = len(A)\n",
    "        self.c = sum(self.A.T)\n",
    "        \n",
    "        # Consistency checks\n",
    "        if self.A.shape[0] != self.n or self.A.shape[1] != self.n:\n",
    "            print(self.n)\n",
    "            raise ValueError(\"ButcherTableau: A should be nxn not \"\n",
    "                          +str(self.A.shape[0])+'x'+str(self.A.shape[1]))\n",
    "        if self.n != len(self.w):\n",
    "            raise ValueError(\"ButcherTableau: Size of A and w should be the same, not \"\n",
    "                         +str(self.n)+' and '+str(len(self.w)))\n",
    "    \n",
    "    def order(self):\n",
    "        o = 0\n",
    "        first = sum(self.w)\n",
    "        second = sum(self.c*self.w)\n",
    "        wac = np.dot(self.w, np.dot(self.A, self.c))\n",
    "        wcc = sum(self.w*self.c*self.c)\n",
    "        \n",
    "        if abs(first-1) < sys.float_info.epsilon:\n",
    "            o = 1\n",
    "            if abs(second-0.5) < sys.float_info.epsilon:\n",
    "                o = 2\n",
    "                if abs(wac-1/6) < sys.float_info.epsilon \\\n",
    "                    and abs(wcc-1/3) < sys.float_info.epsilon:\n",
    "                    o = 3\n",
    "        print('First order condition', first, 'shoud be 1')\n",
    "        print('Second order condition', second, 'should be 0.5')\n",
    "        print('Third order condition wac is ', 6*wac, '/6 should be 1/6', sep='')\n",
    "        print('Third order condition wcc is ', 3*wcc, '/3 should be 1/3', sep='')\n",
    "        \n",
    "        return o\n",
    "    \n",
    "    def Lstable(self):\n",
    "        stable=False\n",
    "        det = np.linalg.det(self.A)\n",
    "        if det > sys.float_info.epsilon:\n",
    "            L = np.dot(self.w, np.dot(np.linalg.inv(self.A), np.ones(self.n)))\n",
    "            print('L-stable condition', L, 'should be 1')\n",
    "            stable = abs(L-1) < sys.float_info.epsilon\n",
    "        else:\n",
    "            print('det(A) =', det)\n",
    "        return stable\n",
    "    \n",
    "    def describe(self):\n",
    "        print('RK scheme', self.name)\n",
    "        print('A =', self.A)\n",
    "        print('w =', self.w)\n",
    "        print('c =', self.c)\n",
    "        print('order', self.order())\n",
    "        print('L-stable', self.Lstable())\n",
    "        self.plotStabilityFunction()\n",
    "    \n",
    "    def stabilityFunction(self, z = np.linspace(0,10,101)):\n",
    "        S = np.zeros_like(z)\n",
    "        I = np.identity(self.n)\n",
    "        for i in range(len(z)):\n",
    "            M = I + z[i]*self.A\n",
    "            if np.linalg.det(M) > sys.float_info.epsilon:\n",
    "                S[i] = 1 - z[i]*np.dot(self.w, \n",
    "                          np.dot(np.linalg.inv(M), np.ones(self.n)))\n",
    "        return S\n",
    "\n",
    "class doubleButcher:\n",
    "    def __init__(self, B1, B2):\n",
    "        self.B1 = B1\n",
    "        self.B2 = B2\n",
    "        \n",
    "        # Consistency checks\n",
    "        if self.B1.n != self.B2.n:\n",
    "            raise ValueError(\"doubleButcher: should contain two ButcherTableau of the same size, not \"\n",
    "                          +str(self.B1.n)+' and '+str(self.B2.n))\n",
    "    \n",
    "    def order(self):\n",
    "        B1 = self.B1\n",
    "        B2 = self.B2\n",
    "        o1 = B1.order()\n",
    "        o2 = B2.order()\n",
    "        \n",
    "        oc2_12 = sum(B1.c*B2.w)\n",
    "        oc2_21 = sum(B2.c*B1.w)\n",
    "        print('Second order coupled conditions are', oc2_12, 'and', oc2_21, 'should be 0.5')\n",
    "        \n",
    "        wac112 = np.dot(B1.w, np.dot(B1.A, B2.c))\n",
    "        wac121 = np.dot(B1.w, np.dot(B2.A, B1.c))\n",
    "        wac122 = np.dot(B1.w, np.dot(B2.A, B2.c))\n",
    "        wac212 = np.dot(B2.w, np.dot(B1.A, B2.c))\n",
    "        wac221 = np.dot(B2.w, np.dot(B2.A, B1.c))\n",
    "        wac211 = np.dot(B2.w, np.dot(B1.A, B1.c))\n",
    "        \n",
    "        wcc112 = sum(B1.w*B1.c*B2.c)\n",
    "        wcc121 = sum(B1.w*B2.c*B1.c)\n",
    "        wcc122 = sum(B1.w*B2.c*B2.c)\n",
    "        wcc212 = sum(B2.w*B1.c*B2.c)\n",
    "        wcc221 = sum(B2.w*B2.c*B1.c)\n",
    "        wcc211 = sum(B2.w*B1.c*B1.c)\n",
    "        \n",
    "        print('Third order wac conditions are ', 6*wac112,'/6, ',6*wac121, '/6, ' ,6*wac122,  \n",
    "              '/6, ', 6*wac212, '/6, ',6*wac221, '/6, ', 6*wac211, '/6. Should be 1/6', sep='')\n",
    "        print('Third order wcc conditions are ', 3*wcc112, '/3, ',3*wcc121, '/3, ',3*wcc122, \n",
    "              '/3, ', 3*wcc212, '/3, ', 3*wcc221, '/3, ',3*wcc211, '/3. Should be 1/3', sep='')"
   ]
  },
  {
   "cell_type": "code",
   "execution_count": 21,
   "id": "6cb03036-3023-44c9-b4ed-efebead1111f",
   "metadata": {},
   "outputs": [],
   "source": [
    "RK3 = ButcherTableau('RK3',\n",
    "                     [[0,0,0,0],\n",
    "                      [1,0,0,0],\n",
    "                      [0.25,0.25,0,0],\n",
    "                      [1/6,1/6,2/3,0]],\n",
    "                      [1/6,1/6,2/3,0])"
   ]
  },
  {
   "cell_type": "code",
   "execution_count": 22,
   "id": "ce3b22f1-ff90-4cf9-84f3-5d2354701329",
   "metadata": {},
   "outputs": [
    {
     "name": "stdout",
     "output_type": "stream",
     "text": [
      "First order condition 1.0 shoud be 1\n",
      "Second order condition 0.5 should be 0.5\n",
      "Third order condition wac is 1.0/6 should be 1/6\n",
      "Third order condition wcc is 1.0/3 should be 1/3\n"
     ]
    }
   ],
   "source": [
    "RK3o = RK3.order()"
   ]
  },
  {
   "cell_type": "code",
   "execution_count": 29,
   "id": "9870c410-b234-4b05-8b2e-55e9c18069b4",
   "metadata": {},
   "outputs": [
    {
     "name": "stdout",
     "output_type": "stream",
     "text": [
      "First order condition 1.0 shoud be 1\n",
      "Second order condition 0.5 should be 0.5\n",
      "Third order condition wac is 1.0/6 should be 1/6\n",
      "Third order condition wcc is 1.0/3 should be 1/3\n"
     ]
    }
   ],
   "source": [
    "RK3i = ButcherTableau('RK3i',\n",
    "                      [[0,0,0,0],\n",
    "                       [0.5,0.5,0,0],\n",
    "                       [0.25,0,0.25,0],\n",
    "                       [1/6,1/6,2/3,0]],\n",
    "                       [1/6,1/6,2/3,0])\n",
    "RK3io = RK3i.order()"
   ]
  },
  {
   "cell_type": "code",
   "execution_count": 30,
   "id": "e8a7dbac-fc51-4292-b909-d66e66b21d8d",
   "metadata": {},
   "outputs": [
    {
     "name": "stdout",
     "output_type": "stream",
     "text": [
      "First order condition 1.0 shoud be 1\n",
      "Second order condition 0.5 should be 0.5\n",
      "Third order condition wac is 1.0/6 should be 1/6\n",
      "Third order condition wcc is 1.0/3 should be 1/3\n",
      "First order condition 1.0 shoud be 1\n",
      "Second order condition 0.5 should be 0.5\n",
      "Third order condition wac is 1.0/6 should be 1/6\n",
      "Third order condition wcc is 1.0/3 should be 1/3\n",
      "Second order coupled conditions are 0.5 and 0.5 should be 0.5\n",
      "Third order wac conditions are 1.0/6, 1.0/6, 1.0/6, 1.0/6, 1.0/6, 1.0/6. Should be 1/6\n",
      "Third order wcc conditions are 1.0/3, 1.0/3, 1.0/3, 1.0/3, 1.0/3, 1.0/3. Should be 1/3\n"
     ]
    }
   ],
   "source": [
    "IMEX = doubleButcher(RK3, RK3i)\n",
    "IMEX.order()"
   ]
  },
  {
   "cell_type": "code",
   "execution_count": 34,
   "id": "c5e59053-248f-49f0-a965-6b78134a868f",
   "metadata": {},
   "outputs": [
    {
     "data": {
      "text/plain": [
       "(-2.0, 1.0)"
      ]
     },
     "execution_count": 34,
     "metadata": {},
     "output_type": "execute_result"
    },
    {
     "data": {
      "image/png": "[encoded data removed]",
      "text/plain": [
       "<Figure size 640x480 with 1 Axes>"
      ]
     },
     "metadata": {},
     "output_type": "display_data"
    }
   ],
   "source": [
    "# Stability functions\n",
    "z = np.linspace(0,20, 201)\n",
    "SRK3 = RK3.stabilityFunction(z)\n",
    "SRKi3 = RK3i.stabilityFunction(z)\n",
    "plt.plot(z, SRK3, label='RK3')\n",
    "plt.plot(z, SRKi3, label='RK3i')\n",
    "plt.legend()\n",
    "plt.ylim([-2,1])"
   ]
  },
  {
   "cell_type": "code",
   "execution_count": null,
   "id": "c733b9b0-6dad-40ba-b025-0b3e1611e470",
   "metadata": {},
   "outputs": [],
   "source": []
  }
 ],
 "metadata": {
  "kernelspec": {
   "display_name": "Python 3 (ipykernel)",
   "language": "python",
   "name": "python3"
  },
  "language_info": {
   "codemirror_mode": {
    "name": "ipython",
    "version": 3
   },
   "file_extension": ".py",
   "mimetype": "text/x-python",
   "name": "python",
   "nbconvert_exporter": "python",
   "pygments_lexer": "ipython3",
   "version": "3.10.12"
  }
 },
 "nbformat": 4,
 "nbformat_minor": 5
}
