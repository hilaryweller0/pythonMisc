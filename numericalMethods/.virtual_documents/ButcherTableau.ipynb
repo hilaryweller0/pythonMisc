import numpy as np
import sys
import matplotlib.pyplot as plt


# Calculating the order of accuracy of an RK scheme from the Butcher Tableau
class ButcherTableau:
    def __init__(self, name, A, w):
        self.name = name
        self.A = np.array(A)
        self.w = np.array(w)
        self.n = len(A)
        self.c = sum(self.A.T)
        
        # Consistency checks
        if self.A.shape[0] != self.n or self.A.shape[1] != self.n:
            print(self.n)
            raise ValueError("ButcherTableau: A should be nxn not "
                          +str(self.A.shape[0])+'x'+str(self.A.shape[1]))
        if self.n != len(self.w):
            raise ValueError("ButcherTableau: Size of A and w should be the same, not "
                         +str(self.n)+' and '+str(len(self.w)))
    
    def order(self):
        o = 0
        first = sum(self.w)
        second = sum(self.c*self.w)
        wac = np.dot(self.w, np.dot(self.A, self.c))
        wcc = sum(self.w*self.c*self.c)
        
        if abs(first-1) < sys.float_info.epsilon:
            o = 1
            if abs(second-0.5) < sys.float_info.epsilon:
                o = 2
                if abs(wac-1/6) < sys.float_info.epsilon \
                    and abs(wcc-1/3) < sys.float_info.epsilon:
                    o = 3
        print('First order condition', first, 'shoud be 1')
        print('Second order condition', second, 'should be 0.5')
        print('Third order condition wac is ', 6*wac, '/6 should be 1/6', sep='')
        print('Third order condition wcc is ', 3*wcc, '/3 should be 1/3', sep='')
        
        return o
    
    def Lstable(self):
        stable=False
        det = np.linalg.det(self.A)
        if det > sys.float_info.epsilon:
            L = np.dot(self.w, np.dot(np.linalg.inv(self.A), np.ones(self.n)))
            print('L-stable condition', L, 'should be 1')
            stable = abs(L-1) < sys.float_info.epsilon
        else:
            print('det(A) =', det)
        return stable
    
    def describe(self):
        print('RK scheme', self.name)
        print('A =', self.A)
        print('w =', self.w)
        print('c =', self.c)
        print('order', self.order())
        print('L-stable', self.Lstable())
        self.plotStabilityFunction()
    
    def stabilityFunction(self, z = np.linspace(0,10,101)):
        S = np.zeros_like(z)
        I = np.identity(self.n)
        for i in range(len(z)):
            M = I + z[i]*self.A
            if np.linalg.det(M) > sys.float_info.epsilon:
                S[i] = 1 - z[i]*np.dot(self.w, np.dot(np.linalg.inv(M), np.ones(self.n)))
        return S

class doubleButcher:
    def __init__(self, B1, B2):
        self.B1 = B1
        self.B2 = B2
        
        # Consistency checks
        if self.B1.n != self.B2.n:
            raise ValueError("doubleButcher: should contain two ButcherTableau of the same size, not "
                          +str(self.B1.n)+' and '+str(self.B2.n))
    
    def order(self):
        B1 = self.B1
        B2 = self.B2
        o1 = B1.order()
        o2 = B2.order()
        
        oc2_12 = sum(B1.c*B2.w)
        oc2_21 = sum(B2.c*B1.w)
        print('Second order coupled conditions are', oc2_12, 'and', oc2_21, 'should be 0.5')
        
        wac112 = np.dot(B1.w, np.dot(B1.A, B2.c))
        wac121 = np.dot(B1.w, np.dot(B2.A, B1.c))
        wac122 = np.dot(B1.w, np.dot(B2.A, B2.c))
        wac212 = np.dot(B2.w, np.dot(B1.A, B2.c))
        wac221 = np.dot(B2.w, np.dot(B2.A, B1.c))
        wac211 = np.dot(B2.w, np.dot(B1.A, B1.c))
        
        wcc112 = sum(B1.w*B1.c*B2.c)
        wcc121 = sum(B1.w*B2.c*B1.c)
        wcc122 = sum(B1.w*B2.c*B2.c)
        wcc212 = sum(B2.w*B1.c*B2.c)
        wcc221 = sum(B2.w*B2.c*B1.c)
        wcc211 = sum(B2.w*B1.c*B1.c)
        
        print('Third order wac conditions are ', 6*wac112,'/6, ',6*wac121, '/6, ' ,6*wac122,  
              '/6, ', 6*wac212, '/6, ',6*wac221, '/6, ', 6*wac211, '/6. Should be 1/6', sep='')
        print('Third order wcc conditions are ', 3*wcc112, '/3, ',3*wcc121, '/3, ',3*wcc122, 
              '/3, ', 3*wcc212, '/3, ', 3*wcc221, '/3, ',3*wcc211, '/3. Should be 1/3', sep='')


RK3 = ButcherTableau('RK3', [[0,0,0,0], [1,0,0,0], [0.25,0.25,0,0], [1/6,1/6,2/3,0]], [1/6,1/6,2/3,0])


RK3o = RK3.order()


RK3_3i = ButcherTableau('RK3_3i', [[0,0,0,0], [0.5,0.5,0,0], [0.25,0,0.25,0], [1/6,1/6,2/3,0]], [1/6,1/6,2/3,0])


RK3_2i = ButcherTableau('RK3_2i', [[0,0,0,0], [0.5,0.5,0,0], [0.25,0,0.25,0], [0.5,0,0,0.5]], [0.5,0,0,0.5])


RK3_1i = ButcherTableau('RK3_1i', [[0,0,0,0], [0,1,0,0], [0,0,0.5,0], [0,0,0,1]], [0,0,0,1])


def RK3i(a,b):
    A = [[0,0,0,0], [0.5*(1-a),0.5*(1+a),0,0], [0.25*(1-a),0,0.25*(1+a),0], b*[0.5*(1-a),0,0,0.5*(1+a)]+(1-b)*[1/6,1/6,2/3,0]]
    return ButcherTableau('RK3i', A, A[-1])


IMEX = doubleButcher(RK3, RK3_3i)
IMEX.order()


IMEX2 = doubleButcher(RK3, RK3_2i)
IMEX2.order()


IMEX2 = doubleButcher(RK3, RK3_1i)
IMEX2.order()


# Plot stability functions
z = 10**(np.linspace(-1,2,81))
plt.semilogx(z, RK3.stabilityFunction(z), label='RK3')
plt.semilogx(z, RK3i(0,0).stabilityFunction(z), label='RK3_3i')
plt.semilogx(z, RK3i(0,1).stabilityFunction(z), label='RK3_2i')
plt.semilogx(z, RK3i(1,1).stabilityFunction(z), label='RK3_1i')
plt.legend()
plt.ylim([-1.2,1.2])
plt.xlim([z[0],z[-1]])
plt.axhline(1, ls=':', c='k', lw=0.5)
plt.axhline(0, ls='-', c='k', lw=0.5)
plt.axhline(-1, ls=':', c='k', lw=0.5)
plt.axvline(5, ls=':', c='k', lw=0.5)
plt.axvline(2.5, ls=':', c='k', lw=0.5)
plt.axvline(2, ls=':', c='k', lw=0.5)
plt.axvline(1.6, ls=':', c='k', lw=0.5)



