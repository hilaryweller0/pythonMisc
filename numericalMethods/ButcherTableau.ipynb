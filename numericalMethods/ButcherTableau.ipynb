{
 "cells": [
  {
   "cell_type": "code",
   "execution_count": null,
   "id": "a33fe5d4-1f75-4478-b90f-138888a5d931",
   "metadata": {},
   "outputs": [],
   "source": [
    "import numpy as np\n",
    "import sys\n",
    "import matplotlib.pyplot as plt\n",
    "from ButcherTableau import *"
   ]
  },
  {
   "cell_type": "code",
   "execution_count": null,
   "id": "55f69999-7fac-42e4-83db-11d4005c4589",
   "metadata": {},
   "outputs": [],
   "source": [
    "RK3 = ButcherTableau('RK3', [[0,0,0,0], [1,0,0,0], [0.25,0.25,0,0], [1/6,1/6,2/3,0]], [1/6,1/6,2/3,0])\n",
    "\n",
    "s = 2\n",
    "SDIRK23_SO = SDIRK3(s)\n",
    "SDIRK23 = SDIRK23_SO.Butcher()\n",
    "SDIRK23.describe()\n",
    "SDIRK23_0 = SDIRK23.addZeroRow()\n",
    "SDIRK23_0.describe()\n",
    "\n",
    "RK3_3i = ButcherTableau('RK3_3i', [[0,0,0,0], [0.5,0.5,0,0], [0.25,0,0.25,0], [1/6,1/6,2/3,0]], [1/6,1/6,2/3,0])\n",
    "RK3_2i = ButcherTableau('RK3_2i', [[0,0,0,0], [0.5,0.5,0,0], [0.25,0,0.25,0], [0.5,0,0,0.5]], [0.5,0,0,0.5])\n",
    "RK3_1i = ButcherTableau('RK3_1i', [[0,0,0,0], [0,1,0,0], [0,0,0.5,0], [0,0,0,1]], [0,0,0,1])\n",
    "RK3_1e = ButcherTableau('RK3_1e', [[0,0,0,0], [1,0,0,0], [0,0.5,0,0], [0,0,1,0]], [0,0,1,0])"
   ]
  },
  {
   "cell_type": "code",
   "execution_count": null,
   "id": "dd4c4fae-fc18-45ec-8d22-c7c9cfbfe170",
   "metadata": {},
   "outputs": [],
   "source": [
    "def trap(z, zlim = 1):\n",
    "    a = max(0.5, 1-zlim/z)\n",
    "    t = ButcherTableau('trap', [[0,0,0,0], [1-a,a,0,0], [0.5*(1-a),0,0.5*a,0], [1-a,0,0,a]], [1-a,0,0,a])\n",
    "    A = t.A\n",
    "    return ButcherTableau('trap', A, A[-1])\n",
    "\n",
    "def RK3Trap(z, zlim = 1):\n",
    "    a = max(0, 1-zlim/z)\n",
    "    RKi = trap(z, zlim)\n",
    "    Ai = RKi.A\n",
    "    Ae = RK3.A\n",
    "    A = (1-a)*Ae + a*Ai\n",
    "    return ButcherTableau('RK3Trap', A, A[-1])\n",
    "\n",
    "def RK3i(z, zlim = 1):\n",
    "    a = max(0, 1-zlim/z)\n",
    "    Ae = RK3.A\n",
    "    Ai = RK3_1i.A\n",
    "    A = (1-a)*Ae + a*Ai\n",
    "    return ButcherTableau('RK3i', A, A[-1])"
   ]
  },
  {
   "cell_type": "code",
   "execution_count": null,
   "id": "9f7aa04a-cca3-4c9a-aff6-94fef0860a82",
   "metadata": {},
   "outputs": [],
   "source": [
    "scheme = RK3Trap(1.8, zlim = 1)\n",
    "scheme.describe()"
   ]
  },
  {
   "cell_type": "code",
   "execution_count": null,
   "id": "67ebfa1a-8564-4169-ab17-4577cb9b0615",
   "metadata": {},
   "outputs": [],
   "source": [
    "def RK3e(z, zlim = 1, damp = 0):\n",
    "    a = max(0, 1-zlim/z)\n",
    "    Ae = RK3.A\n",
    "    Ai = RK3_1e.A\n",
    "    A = (1-a)*Ae + a*Ai*(1-a)**damp\n",
    "    #A = (1-a)*Ae\n",
    "    return ButcherTableau('RK3e', A, A[-1])\n",
    "\n",
    "RK3_exp = ButcherTableau('RK3_exp', [[0,0,0],[1,0,0],[0.25,0.25,0]],[1/6,1/6,2/3])\n",
    "beta = 2/3\n",
    "gamma = (2*beta**2 - 3/2*beta + 1/3)/(2 - 4*beta)\n",
    "RK3_imp = ButcherTableau('RK3_exp', [[0,0,0],[0,1,0],[1/6,-1/3,2/3]],[1/6,1/6,2/3])\n",
    "IMEX3 = doubleButcher(RK3_exp, RK3_imp)\n",
    "IMEX = doubleButcher(RK3, RK3_3i)\n",
    "IMEX2 = doubleButcher(RK3, RK3_2i)\n",
    "IMEX2 = doubleButcher(RK3, RK3_1i)"
   ]
  },
  {
   "cell_type": "code",
   "execution_count": null,
   "id": "c733b9b0-6dad-40ba-b025-0b3e1611e470",
   "metadata": {},
   "outputs": [],
   "source": [
    "# Plot stability functions for exponential decay\n",
    "z = 10**(np.linspace(-1,2,81))\n",
    "sTrap = np.zeros_like(z)\n",
    "sRK3Trap = np.zeros_like(z)\n",
    "for i in range(len(z)):\n",
    "    sRK3Trap[i] = RK3Trap(z[i],zlim=1).stabilityFunction([z[i]])[0]\n",
    "    sTrap[i] = trap(z[i],zlim=1).stabilityFunction([z[i]])[0]\n",
    "plt.semilogx(z, RK3.stabilityFunction(z), label='RK3')\n",
    "plt.semilogx(z, sTrap, label='trapezoidal')\n",
    "plt.semilogx(z, sRK3Trap, label='RK3-trapezoidal')\n",
    "plt.legend()\n",
    "plt.ylim([-1.2,1.2])\n",
    "plt.xlim([z[0],z[-1]])\n",
    "plt.axhline(1, ls=':', c='k', lw=0.5)\n",
    "plt.axhline(0, ls='-', c='k', lw=0.5)\n",
    "plt.axhline(-1, ls=':', c='k', lw=0.5)\n",
    "plt.axvline(1, ls=':', c='k', lw=0.5)\n",
    "plt.axvline(2, ls=':', c='k', lw=0.5)"
   ]
  },
  {
   "cell_type": "code",
   "execution_count": null,
   "id": "05b47e56",
   "metadata": {},
   "outputs": [],
   "source": [
    "# Plot stability functions for a pure oscillation\n",
    "z = 10**(np.linspace(-1,2,81))\n",
    "sTrap = np.zeros_like(z)\n",
    "sRK3Trap = np.zeros_like(z)\n",
    "for i in range(len(z)):\n",
    "    sTrap[i] = trap(z[i],zlim=1).stabilityFunctionImag([z[i]])[0]\n",
    "    sRK3Trap[i] = RK3Trap(z[i],zlim=1).stabilityFunctionImag([z[i]])[0]\n",
    "plt.semilogx(z, RK3.stabilityFunctionImag(z), label='RK3')\n",
    "plt.semilogx(z, sTrap, label='trapezoidal')\n",
    "plt.semilogx(z, sRK3Trap, label='RK3-trapezoidal')\n",
    "plt.legend()\n",
    "plt.ylim([0,1.2])\n",
    "plt.xlim([z[0],z[-1]])\n",
    "plt.axhline(1, ls=':', c='k', lw=0.5)\n",
    "plt.axvline(1, ls=':', c='k', lw=0.5)\n",
    "plt.axvline(2, ls=':', c='k', lw=0.5)"
   ]
  },
  {
   "cell_type": "code",
   "execution_count": null,
   "id": "8a6f6932-3848-4d48-bb8c-fc6c4ee61281",
   "metadata": {},
   "outputs": [],
   "source": [
    "# Plot the order of accuracy\n",
    "z = 10**(np.linspace(-1,2,81))\n",
    "RK3io = np.zeros_like(z)\n",
    "for i in range(len(z)):\n",
    "    RK3io[i] = RK3Trap(z[i],zlim=1).order(orderConditions=[])\n",
    "plt.semilogx(z, RK3io, 'k', label='implicit')\n",
    "#plt.legend()\n",
    "plt.ylim([0.8,3.2])\n",
    "plt.xlim([z[0],z[-1]])\n",
    "plt.axhline(1, ls=':', c='k', lw=0.5)\n",
    "plt.axhline(2, ls=':', c='k', lw=0.5)\n",
    "plt.axhline(3, ls=':', c='k', lw=0.5)\n",
    "plt.axvline(1, ls=':', c='k', lw=0.5)\n",
    "plt.axvline(2, ls=':', c='k', lw=0.5)\n",
    "plt.xlabel('c')\n",
    "plt.ylabel('Order, o')\n",
    "plt.tight_layout()\n",
    "plt.savefig(\"plots/ImEx_order.pdf\")"
   ]
  },
  {
   "cell_type": "code",
   "execution_count": null,
   "id": "665eaa67-06d0-4ebd-ba81-542005ef77d7",
   "metadata": {},
   "outputs": [],
   "source": []
  }
 ],
 "metadata": {
  "kernelspec": {
   "display_name": "Python 3 (ipykernel)",
   "language": "python",
   "name": "python3"
  },
  "language_info": {
   "codemirror_mode": {
    "name": "ipython",
    "version": 3
   },
   "file_extension": ".py",
   "mimetype": "text/x-python",
   "name": "python",
   "nbconvert_exporter": "python",
   "pygments_lexer": "ipython3",
   "version": "3.10.12"
  }
 },
 "nbformat": 4,
 "nbformat_minor": 5
}
