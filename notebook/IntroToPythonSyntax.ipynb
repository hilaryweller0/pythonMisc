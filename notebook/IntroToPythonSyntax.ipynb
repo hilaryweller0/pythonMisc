{
 "metadata": {
  "name": "IntroToPythonSyntax"
 },
 "nbformat": 3,
 "nbformat_minor": 0,
 "worksheets": [
  {
   "cells": [
    {
     "cell_type": "markdown",
     "metadata": {},
     "source": [
      "Variables in Python\n",
      "-------------------\n",
      "Variables in Python are dynamically typed - you don't need to declare\n",
      "what type a variable is before you can use it."
     ]
    },
    {
     "cell_type": "code",
     "collapsed": true,
     "input": [
      "x = 1\n",
      "y = 2\n",
      "z = x + y**2\n",
      "print x, y, z\n",
      "\n",
      "x = 'x is now a variable containing a string!'\n",
      "y = 'Amazing, huh?'\n",
      "print x, y\n",
      "\n",
      "x = 'y now contains a boolean value.  This is...'\n",
      "y = True\n",
      "print x, y"
     ],
     "language": "python",
     "metadata": {},
     "outputs": []
    },
    {
     "cell_type": "markdown",
     "metadata": {},
     "source": [
      "####Syntax notes:####\n",
      "\n",
      "* One line per statement\n",
      "* Nothing needed to end the line\n",
      "* `True` and `False` represent boolean values\n",
      "* `print x,y` prints the values of `x` and `y` with a space between them"
     ]
    },
    {
     "cell_type": "markdown",
     "metadata": {},
     "source": [
      "So, what types of variables do we have in Python?"
     ]
    },
    {
     "cell_type": "code",
     "collapsed": true,
     "input": [
      "# This is a comment.  Comments start with a # and run until the end of the line\n",
      "#\n",
      "# Deal with the numerical types first:\n",
      "\n",
      "# int\n",
      "x = 1\n",
      "x2 = 2\n",
      "print 'x is', type(x)\n",
      "print 'x2 is', type(x2)\n",
      "print x/x2\n",
      "\n",
      "# float\n",
      "y = 1.0\n",
      "print 'y is', type(y)\n",
      "\n",
      "# complex\n",
      "z = 1.0 + 1.0j\n",
      "print 'z is', type(z)\n",
      "\n",
      "r = z.real\n",
      "i = z.imag\n",
      "print 'r is', type(r), 'and i is', type(i)\n",
      "\n",
      "# Now for some other useful types\n",
      "\n",
      "# boolean, can be True or False\n",
      "b = False\n",
      "print 'b is', type(b)\n",
      "\n",
      "# strings\n",
      "s = 'this is a string'\n",
      "print 's is', type(s)"
     ],
     "language": "python",
     "metadata": {},
     "outputs": []
    },
    {
     "cell_type": "markdown",
     "metadata": {},
     "source": [
      "####Syntax notes:####\n",
      "* Comments start with a #\n",
      "* `1.0j` can be used to create complex numbers\n",
      "* `z.real` and `z.imag` are examples of _members_ - `z` is a complex number containing 2 floating point members\n",
      "* Dynamic typing + integer division can lead to problems - be vigilant!\n",
      "\n",
      "\n",
      "And how can we manipulate these variables?"
     ]
    },
    {
     "cell_type": "code",
     "collapsed": true,
     "input": [
      "x = 2.0\n",
      "y = 3.0\n",
      "z = 10.0\n",
      "\n",
      "# Addition\n",
      "w = x + y + z\n",
      "print 'Addition:', w\n",
      "\n",
      "# Subtraction\n",
      "w = y - x\n",
      "print 'Subtraction:', w\n",
      "\n",
      "# Multiplication\n",
      "w = y * z\n",
      "print 'Multiplication', w\n",
      "\n",
      "# Division\n",
      "w = y / x\n",
      "print 'Division', w\n",
      "\n",
      "# Exponentiation\n",
      "w = z ** y\n",
      "print 'Exponentiation', w\n",
      "\n",
      "# Modulo / Integer remainder\n",
      "w = z % y\n",
      "print 'Modulo', w\n",
      "\n",
      "# We can also add things to themselves:\n",
      "# the longer obvious way:\n",
      "x = 10\n",
      "x = x + 15\n",
      "print 'Add something to itself in an obvious manner', x\n",
      "\n",
      "# or the slightly less obvious, but still rather common way:\n",
      "x = 10\n",
      "x += 15\n",
      "print 'Add something to itself in a slightly less obvious manner', x\n",
      "\n",
      "# and that works with any of the numerical operators:\n",
      "x -= 10\n",
      "x *= 10\n",
      "x /= 10\n",
      "x **= 2\n",
      "x %= 7\n",
      "\n",
      "# We didn't print the results that time, but if it had failed, we would have an error"
     ],
     "language": "python",
     "metadata": {},
     "outputs": []
    },
    {
     "cell_type": "markdown",
     "metadata": {},
     "source": [
      "####Syntax notes:####\n",
      "* `**` is exponentiation\n",
      "* `%` is modulo\n",
      "* Other basic operators are standard\n",
      "* `x++`, `x--` etc. do not work in python\n",
      "\n",
      "Nothing particularly taxing there.  Let's move on to some comparisons:"
     ]
    },
    {
     "cell_type": "code",
     "collapsed": true,
     "input": [
      "print '10 is larger than 9:', (10 > 9)\n",
      "print '10 is smaller than 9:', (10 < 9)\n",
      "print '10 is equal to 9:', (10 == 9)\n",
      "print '10 is not equal to 9:', (10 != 9)\n",
      "\n",
      "print '10 is greater than 10:', (10 > 10)\n",
      "print '10 is greater than or equal to 10:', (10 >= 10)\n",
      "print '1 is less than 3, which is less than 5:', (1 < 3 < 5)"
     ],
     "language": "python",
     "metadata": {},
     "outputs": []
    },
    {
     "cell_type": "markdown",
     "metadata": {},
     "source": [
      "####Syntax notes:####\n",
      "* `!=` is \"not equal to\"\n",
      "\n",
      "Lists\n",
      "-----\n",
      "\n",
      "Now that we know the basic data types in Python, let's look at the most useful _collection_ of data types,\n",
      "the list.  Lists are basically like arrays in other languages.\n",
      "\n",
      "Lists in Python are indicated with square brackets.  Some examples:"
     ]
    },
    {
     "cell_type": "code",
     "collapsed": true,
     "input": [
      "# Define some lists\n",
      "an_empty_list = []\n",
      "a_list_of_numbers = [1, 2, 3, 4, 5, 6, 7, 8, 9, 10]\n",
      "print an_empty_list, a_list_of_numbers"
     ],
     "language": "python",
     "metadata": {},
     "outputs": []
    },
    {
     "cell_type": "code",
     "collapsed": true,
     "input": [
      "# Make x hold a reference to our list of numbers, for convenience\n",
      "# (also to demonstrate that variables can be assigned to other variables)\n",
      "x = a_list_of_numbers\n",
      "\n",
      "# List indexing - you can get the elements of a list using square brackets\n",
      "# Indexing starts at 0.\n",
      "print x[3]\n",
      "print x[7]"
     ],
     "language": "python",
     "metadata": {},
     "outputs": []
    },
    {
     "cell_type": "code",
     "collapsed": true,
     "input": [
      "# You can also use negative indices to count backwards from the end of the list:\n",
      "print x[-1]\n",
      "print x[-2]\n",
      "print x[-3]"
     ],
     "language": "python",
     "metadata": {},
     "outputs": []
    },
    {
     "cell_type": "code",
     "collapsed": true,
     "input": [
      "# You can set individual elements of a list:\n",
      "print x\n",
      "x[0] = 99\n",
      "print x"
     ],
     "language": "python",
     "metadata": {},
     "outputs": []
    },
    {
     "cell_type": "code",
     "collapsed": true,
     "input": [
      "# List 'slicing'.  Inclusive of first index, exclusive of second one:\n",
      "print x[3:7]\n",
      "# If you miss the first or last index, it defaults to the first or last element:\n",
      "print x[:3]\n",
      "print x[3:]\n",
      "print x[:]"
     ],
     "language": "python",
     "metadata": {},
     "outputs": []
    },
    {
     "cell_type": "code",
     "collapsed": true,
     "input": [
      "# You can even use slicing to set several elements of a list:\n",
      "print x\n",
      "x[:3] = [100,200,300]\n",
      "print x"
     ],
     "language": "python",
     "metadata": {},
     "outputs": []
    },
    {
     "cell_type": "code",
     "collapsed": true,
     "input": [
      "# Lists can be added to, using the append() method:\n",
      "x.append(10)\n",
      "print x"
     ],
     "language": "python",
     "metadata": {},
     "outputs": []
    },
    {
     "cell_type": "code",
     "collapsed": true,
     "input": [
      "# And you can remove elements using del:\n",
      "del x[-1]\n",
      "print x"
     ],
     "language": "python",
     "metadata": {},
     "outputs": []
    },
    {
     "cell_type": "code",
     "collapsed": true,
     "input": [
      "# You can concatenate two lists together using +\n",
      "y = x + x\n",
      "print y"
     ],
     "language": "python",
     "metadata": {},
     "outputs": []
    },
    {
     "cell_type": "code",
     "collapsed": true,
     "input": [
      "# You can also find the length of a list using len()\n",
      "l = len(y)\n",
      "print 'The list y has', l, 'elements'"
     ],
     "language": "python",
     "metadata": {},
     "outputs": []
    },
    {
     "cell_type": "markdown",
     "metadata": {},
     "source": [
      "Lists don't have to hold numbers though.  In fact, lists can hold any data type, and they don't even all\n",
      "have to be the same thing:"
     ]
    },
    {
     "cell_type": "code",
     "collapsed": true,
     "input": [
      "mixed_list = [1.0, True, 'This list contains a number, a boolean, and this string']\n",
      "print mixed_list[0]\n",
      "print mixed_list[1]\n",
      "print mixed_list[2]"
     ],
     "language": "python",
     "metadata": {},
     "outputs": []
    },
    {
     "cell_type": "markdown",
     "metadata": {},
     "source": [
      "####Syntax notes:####\n",
      "* List indexing starts at 0\n",
      "* Lists are accessed using square brackets `[]`\n",
      "* Slicing works similarly to Matlab"
     ]
    },
    {
     "cell_type": "markdown",
     "metadata": {},
     "source": [
      "Loops\n",
      "-----\n",
      "You all know what loops are.  Let's have a look at some of the ways Python does loops,\n",
      "and find out some other interesting bits and pieces along the way"
     ]
    },
    {
     "cell_type": "code",
     "collapsed": false,
     "input": [
      "# A while loop.  You know, the one where we loop WHILE some condition is true\n",
      "\n",
      "counter = 10\n",
      "while counter >= 0:\n",
      "    print counter\n",
      "    counter -= 1\n",
      "print \"Blast off!\""
     ],
     "language": "python",
     "metadata": {},
     "outputs": []
    },
    {
     "cell_type": "markdown",
     "metadata": {},
     "source": [
      "####Syntax notes:####\n",
      "\n",
      "* We didn't need brackets around the `counter > 0` part\n",
      "* We define the start of the loop with a colon\n",
      "* The text after the colon is indented\n",
      "\n",
      "####This is important####\n",
      "\n",
      "Indentation is how Python determines where loops (and other control statements, like `if`) start and end.\n",
      "Each indentation can be any size, so long as they're all the same, but 4 spaces is the standard.  Note that\n",
      "_spaces are not the same as tabs_.  If you mix your tabs and your spaces, you're asking for trouble.\n",
      "\n",
      "The standard way to avoid this is to never use tabs.  Most text editors which recognise Python code will \n",
      "switch to _soft tabs_, where each time you press the TAB button, it inserts 4 spaces.\n",
      "\n",
      "### `for` loops\n",
      "You are probably familiar with `for` loops.  First let's define a new list:\n"
     ]
    },
    {
     "cell_type": "code",
     "collapsed": true,
     "input": [
      "# A list of numbers which we want to loop over\n",
      "x = [0.21, 0.84, 0.86, 0.16, 0.57, 0.49, 0.36]"
     ],
     "language": "python",
     "metadata": {},
     "outputs": []
    },
    {
     "cell_type": "markdown",
     "metadata": {},
     "source": [
      "In Python `for` loops always work by looping over every element in a list:\n",
      "\n",
      "`for element in my_list:`\n",
      "\n",
      "In action:"
     ]
    },
    {
     "cell_type": "code",
     "collapsed": true,
     "input": [
      "# Again we have the colon\n",
      "for element in x:\n",
      "    # Followed by the indentation\n",
      "    twice_the_element = element * 2\n",
      "    print twice_the_element"
     ],
     "language": "python",
     "metadata": {},
     "outputs": []
    },
    {
     "cell_type": "markdown",
     "metadata": {},
     "source": [
      "Generally you don't need access to the actual array indices, just all of the elements.  If you have two separate lists which correspond to one another, use the `zip` function:"
     ]
    },
    {
     "cell_type": "code",
     "collapsed": true,
     "input": [
      "x = [0,1,2,3,4,5,6,7,8,9]\n",
      "y = [0,1,4,9,16,25,36,49,64,81]\n",
      "\n",
      "for (xi, yi) in zip(x,y):\n",
      "    print yi, 'is the square of',xi"
     ],
     "language": "python",
     "metadata": {},
     "outputs": []
    },
    {
     "cell_type": "markdown",
     "metadata": {},
     "source": [
      "####Syntax notes:####\n",
      "* `zip(x,y)` returns a list of _tuples_.  The individual elements of a tuple can be extracted with `(xi, yi) = tuple`\n",
      "\n",
      "If you do want to loop over a variable that just increases by one each time, use the function `range(n)` which just creates a list going from `0` to `(n-1)`, which we can use in a `for` loop:"
     ]
    },
    {
     "cell_type": "code",
     "collapsed": true,
     "input": [
      "# This is what range(n) does\n",
      "print range(10)"
     ],
     "language": "python",
     "metadata": {},
     "outputs": []
    },
    {
     "cell_type": "code",
     "collapsed": true,
     "input": [
      "# And this is how we use it in a for loop:\n",
      "for i in range(10):\n",
      "    print i"
     ],
     "language": "python",
     "metadata": {},
     "outputs": []
    },
    {
     "cell_type": "markdown",
     "metadata": {},
     "source": [
      "It will also take start values, and steps:"
     ]
    },
    {
     "cell_type": "code",
     "collapsed": true,
     "input": [
      "# Using start and stop value\n",
      "print range(10,20)"
     ],
     "language": "python",
     "metadata": {},
     "outputs": []
    },
    {
     "cell_type": "code",
     "collapsed": true,
     "input": [
      "# Using start, stop and step\n",
      "print range(50,100,5)"
     ],
     "language": "python",
     "metadata": {},
     "outputs": []
    },
    {
     "cell_type": "markdown",
     "metadata": {},
     "source": [
      "Conditionals\n",
      "------------\n",
      "I'm sure you've all come across conditionals in other languages.  They're the `if` and `else` constructs.\n",
      "In Python:"
     ]
    },
    {
     "cell_type": "code",
     "collapsed": true,
     "input": [
      "x = 10\n",
      "y = 5\n",
      "z = 3\n",
      "\n",
      "if x < y:\n",
      "    print x, 'is smaller than', y\n",
      "elif x > z:\n",
      "    print x, 'is not smaller than', y, 'but it is bigger than', z\n",
      "else:\n",
      "    print x, 'is not smaller than', y, 'and its not bigger than', z"
     ],
     "language": "python",
     "metadata": {},
     "outputs": []
    },
    {
     "cell_type": "markdown",
     "metadata": {},
     "source": [
      "####Syntax notes:####\n",
      "* Again we have colon, indentation, stop indentation for each block\n",
      "* `elif` is the python keyword for \"else if\"\n",
      "\n",
      "Functions\n",
      "=========\n",
      "\n",
      "In Python, functions are defined like this:"
     ]
    },
    {
     "cell_type": "code",
     "collapsed": false,
     "input": [
      "def this_is_a_function(arg1, arg2):\n",
      "    \"\"\" This is how to document a function \"\"\"\n",
      "    return arg1 + arg2\n",
      "\n",
      "print this_is_a_function(10.0,2)\n",
      "print this_is_a_function(20.0,3)\n",
      "print this_is_a_function(30.0,4)"
     ],
     "language": "python",
     "metadata": {},
     "outputs": []
    },
    {
     "cell_type": "code",
     "collapsed": false,
     "input": [
      "# Because there is no type checking, calling with the wrong type will cause a runtime error:\n",
      "print this_is_a_function('I am not a number!',42)\n"
     ],
     "language": "python",
     "metadata": {},
     "outputs": []
    }
   ],
   "metadata": {}
  }
 ]
}